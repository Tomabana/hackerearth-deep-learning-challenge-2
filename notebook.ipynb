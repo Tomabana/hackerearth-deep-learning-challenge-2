{
 "cells": [
  {
   "cell_type": "code",
   "execution_count": null,
   "metadata": {
    "scrolled": true
   },
   "outputs": [],
   "source": [
    "import pandas as pd\n",
    "import numpy as np\n",
    "import os.path\n",
    "from keras.applications import ResNet50\n",
    "from keras.optimizers import Adam\n",
    "import cv2\n",
    "from tqdm import tqdm\n",
    "from sklearn.model_selection import train_test_split\n",
    "from sklearn.metrics import f1_score\n",
    "from keras.models import Sequential\n",
    "from keras.layers import Dense, Dropout, Flatten\n",
    "from keras.callbacks import EarlyStopping, ModelCheckpoint\n",
    "from keras import backend as K"
   ]
  },
  {
   "cell_type": "code",
   "execution_count": null,
   "metadata": {
    "collapsed": true,
    "scrolled": true
   },
   "outputs": [],
   "source": [
    "CSV_TRAIN_FILE = 'train.csv'\n",
    "TRAIN_IMAGES_PATH = '../../data/train_/{}'\n",
    "CSV_TEST_FILE = 'test.csv'\n",
    "TEST_IMAGES_PATH = '../../data/test_/{}'"
   ]
  },
  {
   "cell_type": "code",
   "execution_count": null,
   "metadata": {
    "collapsed": true,
    "scrolled": true
   },
   "outputs": [],
   "source": [
    "df_train = pd.read_csv(CSV_TRAIN_FILE)\n",
    "NUM_CLASSES = 15\n",
    "IMAGE_X_SIZE = 350\n",
    "IMAGE_Y_SIZE = 350"
   ]
  },
  {
   "cell_type": "markdown",
   "metadata": {},
   "source": [
    "### Loading images"
   ]
  },
  {
   "cell_type": "code",
   "execution_count": null,
   "metadata": {
    "collapsed": true,
    "scrolled": true
   },
   "outputs": [],
   "source": [
    "def load_images(data, images_path, x_size, y_size, train):\n",
    "    resize=(x_size, y_size)\n",
    "    x = []\n",
    "    y = []\n",
    "    ids = []\n",
    "\n",
    "    for img_id, age, gender, view, file, detected in tqdm(data.values, miniters=100):\n",
    "        img = cv2.imread(images_path.format(file))\n",
    "        x.append(cv2.resize(img, resize))\n",
    "        ids.append(img_id)\n",
    "        \n",
    "        if train:\n",
    "            targets = np.zeros(NUM_CLASSES)\n",
    "            index = int(detected.replace(\"class_\", \"\"))\n",
    "            targets[index] = 1\n",
    "            y.append(targets)\n",
    "    \n",
    "    y = np.array(y, np.uint8)\n",
    "\n",
    "    return x, y, ids"
   ]
  },
  {
   "cell_type": "code",
   "execution_count": null,
   "metadata": {
    "scrolled": true
   },
   "outputs": [],
   "source": [
    "X_all, y_all, ids = load_images(df_train, TRAIN_IMAGES_PATH, IMAGE_X_SIZE, IMAGE_Y_SIZE, train=True)"
   ]
  },
  {
   "cell_type": "markdown",
   "metadata": {},
   "source": [
    "### Split dataset to training and test set"
   ]
  },
  {
   "cell_type": "code",
   "execution_count": null,
   "metadata": {
    "collapsed": true,
    "scrolled": true
   },
   "outputs": [],
   "source": [
    "X_train, X_test, y_train, y_test = train_test_split(X_all, y_all, test_size=0.3, random_state=0)"
   ]
  },
  {
   "cell_type": "code",
   "execution_count": null,
   "metadata": {
    "collapsed": true,
    "scrolled": true
   },
   "outputs": [],
   "source": [
    "X_train = np.array(X_train, np.float32) / 255\n",
    "X_test = np.array(X_test, np.float32) / 255"
   ]
  },
  {
   "cell_type": "markdown",
   "metadata": {},
   "source": [
    "### Building a model"
   ]
  },
  {
   "cell_type": "code",
   "execution_count": null,
   "metadata": {
    "scrolled": true
   },
   "outputs": [],
   "source": [
    "base_model = ResNet50(weights='imagenet', include_top=False, input_shape=(IMAGE_X_SIZE, IMAGE_Y_SIZE, 3))\n",
    "for layer in base_model.layers[1:]: #freeze all layers\n",
    "    layer.trainable = False\n",
    "model = Sequential([\n",
    "    base_model,\n",
    "    Flatten(),\n",
    "    Dense(2048, activation='relu'),\n",
    "    Dropout(0.5),\n",
    "    Dense(512, activation='relu'),\n",
    "    Dropout(0.5),\n",
    "    Dense(NUM_CLASSES, activation='softmax')\n",
    "])\n",
    "for layer in model.layers[0].layers[-35:]: #unfreeze some layers\n",
    "    layer.trainable = True\n",
    "optimizer = Adam(0.0001, decay=0.00000001)\n",
    "model.compile(loss='categorical_crossentropy', optimizer=optimizer, metrics=['accuracy'])\n",
    "model.summary()"
   ]
  },
  {
   "cell_type": "markdown",
   "metadata": {},
   "source": [
    "#### Loading model parameters"
   ]
  },
  {
   "cell_type": "code",
   "execution_count": null,
   "metadata": {
    "collapsed": true
   },
   "outputs": [],
   "source": [
    "model.load_weights(\"ResNet50.hdf5\")"
   ]
  },
  {
   "cell_type": "markdown",
   "metadata": {},
   "source": [
    "### Training a model"
   ]
  },
  {
   "cell_type": "code",
   "execution_count": null,
   "metadata": {
    "collapsed": true,
    "scrolled": true
   },
   "outputs": [],
   "source": [
    "history = model.fit(X_train, y_train,\n",
    "          batch_size=64,\n",
    "          epochs=50,\n",
    "          verbose=1,\n",
    "          validation_data=(X_test, y_test))"
   ]
  },
  {
   "cell_type": "markdown",
   "metadata": {},
   "source": [
    "### Predictions"
   ]
  },
  {
   "cell_type": "code",
   "execution_count": null,
   "metadata": {
    "collapsed": true,
    "scrolled": true
   },
   "outputs": [],
   "source": [
    "df_test = pd.read_csv(CSV_TEST_FILE)\n",
    "df_test['detected'] = 'dummy'"
   ]
  },
  {
   "cell_type": "code",
   "execution_count": null,
   "metadata": {
    "scrolled": true
   },
   "outputs": [],
   "source": [
    "test_X_all, y_test, ids = load_images(df_test, TEST_IMAGES_PATH, IMAGE_X_SIZE, IMAGE_Y_SIZE, train=False)\n",
    "test_X_all = np.array(test_X_all, np.float32) / 255"
   ]
  },
  {
   "cell_type": "code",
   "execution_count": null,
   "metadata": {
    "scrolled": true
   },
   "outputs": [],
   "source": [
    "prediction = model.predict(test_X_all, batch_size=64, verbose=1)"
   ]
  },
  {
   "cell_type": "markdown",
   "metadata": {},
   "source": [
    "### Create submission file"
   ]
  },
  {
   "cell_type": "code",
   "execution_count": null,
   "metadata": {
    "collapsed": true,
    "scrolled": true
   },
   "outputs": [],
   "source": [
    "labels = [\"class_\" + str(class_number) for class_number in np.argmax(prediction, -1)]\n",
    "dataFrame = {'row_id': ids, 'detected': labels}\n",
    "submission = pd.DataFrame(data=dataFrame)\n",
    "submission[ ['row_id', 'detected'] ].to_csv('answers.csv', index=False)"
   ]
  }
 ],
 "metadata": {
  "kernelspec": {
   "display_name": "Python 3",
   "language": "python",
   "name": "python3"
  },
  "language_info": {
   "codemirror_mode": {
    "name": "ipython",
    "version": 3
   },
   "file_extension": ".py",
   "mimetype": "text/x-python",
   "name": "python",
   "nbconvert_exporter": "python",
   "pygments_lexer": "ipython3",
   "version": "3.6.3"
  }
 },
 "nbformat": 4,
 "nbformat_minor": 1
}
